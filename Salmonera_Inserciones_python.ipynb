{
 "cells": [
  {
   "cell_type": "markdown",
   "id": "3bc4fa2c",
   "metadata": {},
   "source": [
    "# Simulador de inserciones en vivo — Salmonera (SQL Server / SQLEXPRESS)\n",
    "\n",
    "Este notebook crea el esquema, siembra dimensiones y ejecuta inserciones continuas (con datos sucios) en todas las tablas: clientes, productos, empleados, producción, ventas, exportaciones, costos e inventario.\n",
    "\n",
    "**Ajusta la conexión** en la siguiente celda para tu `SQLEXPRESS` (Windows auth o SQL auth)."
   ]
  },
  {
   "cell_type": "code",
   "execution_count": 1,
   "id": "5b5ea923",
   "metadata": {},
   "outputs": [
    {
     "name": "stdout",
     "output_type": "stream",
     "text": [
      "Requirement already satisfied: pyodbc in c:\\users\\julian\\anaconda3\\lib\\site-packages (5.2.0)\n",
      "Requirement already satisfied: python-dateutil in c:\\users\\julian\\anaconda3\\lib\\site-packages (2.9.0.post0)\n",
      "Requirement already satisfied: tqdm in c:\\users\\julian\\anaconda3\\lib\\site-packages (4.67.1)\n",
      "Requirement already satisfied: six>=1.5 in c:\\users\\julian\\anaconda3\\lib\\site-packages (from python-dateutil) (1.17.0)\n",
      "Requirement already satisfied: colorama in c:\\users\\julian\\anaconda3\\lib\\site-packages (from tqdm) (0.4.6)\n"
     ]
    }
   ],
   "source": [
    "# ▶️ 1) (Opcional) Instalar librerías desde el Notebook\n",
    "!pip install pyodbc python-dateutil tqdm"
   ]
  },
  {
   "cell_type": "code",
   "execution_count": 2,
   "id": "f318b4f9",
   "metadata": {},
   "outputs": [
    {
     "name": "stdout",
     "output_type": "stream",
     "text": [
      "Conectado a: ('DESKTOP-J11EQUD\\\\SQLEXPRESS', 'SQLEXPRESS')\n"
     ]
    }
   ],
   "source": [
    "# ▶️ 2) Configuración de conexión — SQLEXPRESS\n",
    "import os\n",
    "\n",
    "SERVER   = \"localhost\"         # o IP/hostname\n",
    "DATABASE = \"SalmonesBD\"         # crea la BD antes o usa master y cambia USE\n",
    "USERNAME = \"sa\"\n",
    "PASSWORD = \"hola123\"\n",
    "DRIVER   = \"ODBC Driver 18 for SQL Server\"  # nombre exacto del driver\n",
    "TRUSTCERT = \"yes\"  # 'yes' si usas Encrypt por defecto en Driver 18\n",
    "\n",
    "import pyodbc\n",
    "\n",
    "DRIVER   = \"ODBC Driver 18 for SQL Server\"\n",
    "SERVER   = r\"localhost\\SQLEXPRESS\"      # o r\"TU-PC\\SQLEXPRESS\"\n",
    "DATABASE = \"SalmonesBD\"                  # crea la BD si aún no existe\n",
    "AUTH     = \"windows\"                    # \"windows\" o \"sql\"\n",
    "\n",
    "USERNAME = \"sa\"                         # solo si AUTH=\"sql\"\n",
    "PASSWORD = \"YourStrong!Passw0rd\"        # solo si AUTH=\"sql\"\n",
    "\n",
    "def get_conn():\n",
    "    if AUTH.lower() == \"windows\":\n",
    "        conn_str = (\n",
    "            f\"DRIVER={{{DRIVER}}};SERVER={SERVER};DATABASE={DATABASE};\"\n",
    "            \"Trusted_Connection=Yes;Encrypt=yes;TrustServerCertificate=yes;\"\n",
    "        )\n",
    "    else:\n",
    "        conn_str = (\n",
    "            f\"DRIVER={{{DRIVER}}};SERVER={SERVER};DATABASE={DATABASE};\"\n",
    "            f\"UID={USERNAME};PWD={PASSWORD};Encrypt=yes;TrustServerCertificate=yes;\"\n",
    "        )\n",
    "    return pyodbc.connect(conn_str, autocommit=True)\n",
    "\n",
    "# Test\n",
    "with get_conn() as conn:\n",
    "    cur = conn.cursor()\n",
    "    cur.execute(\"SELECT @@SERVERNAME, CAST(SERVERPROPERTY('InstanceName') AS NVARCHAR(100));\")\n",
    "    print(\"Conectado a:\", cur.fetchone())"
   ]
  },
  {
   "cell_type": "code",
   "execution_count": 3,
   "id": "3affc339",
   "metadata": {},
   "outputs": [],
   "source": [
    "#Helpers robustos (previenen el error de IDs texto)\n",
    "import random\n",
    "from datetime import datetime, timedelta\n",
    "\n",
    "PLANTAS = [\"Chinquihue\",\"Calbuco\",\"Quellón\",\"Hornopirén\",\"Puerto Montt\"]\n",
    "ESPECIES = [\"Atlántico\",\"Coho\",\"Trucha\"]\n",
    "PROCESOS = [\"Fileteado\",\"Congelado\",\"Envasado\",\"Despacho\",\"Almacenado\"]\n",
    "TURNOS   = [\"Mañana\",\"Tarde\",\"Noche\"]\n",
    "ESTADOS  = [\"A tiempo\",\"Retrasado\",\"Cancelado\"]\n",
    "PAISES   = [\"EEUU\",\"China\",\"Japón\",\"Brasil\",\"España\"]\n",
    "UBICS    = [\"Bodega Norte\",\"Bodega Sur\",\"Puerto\"]\n",
    "CARGOS   = [\"Operario\",\"Supervisor\",\"Administrativo\",\"Técnico\"]\n",
    "\n",
    "P_NULL_PRICE = 0.02\n",
    "P_NEG_KG     = 0.02\n",
    "P_TYPO       = 0.01\n",
    "\n",
    "def rand_dt(days_back=730):\n",
    "    now = datetime.now()\n",
    "    d = timedelta(days=random.randint(0, days_back),\n",
    "                  hours=random.randint(0,23),\n",
    "                  minutes=random.randint(0,59))\n",
    "    return now - d\n",
    "\n",
    "def maybe_typo(s):\n",
    "    return s.replace(\"o\",\"0\").replace(\"a\",\"@\") if random.random()<P_TYPO else s\n",
    "\n",
    "def get_next_id(cur, table, id_col):\n",
    "    cur.execute(f\"SELECT CAST(ISNULL(MAX(TRY_CAST({id_col} AS BIGINT)),0) AS BIGINT) FROM {table};\")\n",
    "    return int(cur.fetchone()[0]) + 1\n",
    "\n",
    "def random_fk(cur, table, id_col, fallback=1):\n",
    "    cur.execute(f\"SELECT MIN(TRY_CAST({id_col} AS BIGINT)), MAX(TRY_CAST({id_col} AS BIGINT)) FROM {table};\")\n",
    "    mn, mx = cur.fetchone()\n",
    "    return fallback if mn is None or mx is None else random.randint(int(mn), int(mx))\n"
   ]
  },
  {
   "cell_type": "code",
   "execution_count": 4,
   "id": "f0976e6c",
   "metadata": {},
   "outputs": [],
   "source": [
    "#Inserciones por tabla\n",
    "def insert_cliente(cur):\n",
    "    i = get_next_id(cur,\"clientes\",\"ID_cliente\")\n",
    "    cur.execute(\"INSERT INTO clientes VALUES (?,?,?,?,?)\",\n",
    "                i, maybe_typo(f\"Cliente_{i}\"), random.choice(PAISES),\n",
    "                \"correo_invalido\" if random.random()<0.05 else f\"cliente{i}@mail.com\",\n",
    "                f\"+56 9 {random.randint(10000000,99999999)}\")\n",
    "\n",
    "def insert_producto(cur):\n",
    "    i = get_next_id(cur,\"productos\",\"ID_producto\")\n",
    "    cur.execute(\"INSERT INTO productos VALUES (?,?,?,?,?)\",\n",
    "                i, maybe_typo(f\"Producto_{i}\"), random.choice(ESPECIES),\n",
    "                random.choice(PROCESOS if random.random()>0.02 else [\"Filet\"]),\n",
    "                random.randint(2000,10000))\n",
    "\n",
    "def insert_empleado(cur):\n",
    "    i = get_next_id(cur,\"empleados\",\"ID_empleado\")\n",
    "    cur.execute(\"INSERT INTO empleados VALUES (?,?,?,?,?,?)\",\n",
    "                i, f\"Empleado_{i}\", random.choice(CARGOS),\n",
    "                random.choice(PLANTAS), random.choice(TURNOS),\n",
    "                random.randint(500000,2000000))\n",
    "\n",
    "def insert_produccion(cur):\n",
    "    i = get_next_id(cur,\"produccion\",\"ID_produccion\")\n",
    "    cur.execute(\"INSERT INTO produccion VALUES (?,?,?,?,?,?)\",\n",
    "                i,\n",
    "                random_fk(cur,\"productos\",\"ID_producto\"),\n",
    "                random.choice(PLANTAS if random.random()>0.01 else [None]),\n",
    "                random_fk(cur,\"empleados\",\"ID_empleado\"),\n",
    "                (-1 if random.random()<P_NEG_KG else 1)*int(random.normalvariate(1000,250)),\n",
    "                rand_dt())\n",
    "\n",
    "def insert_venta(cur):\n",
    "    i = get_next_id(cur,\"ventas\",\"ID_venta\")\n",
    "    precio = None if random.random()<P_NULL_PRICE else random.randint(10000,1000000)\n",
    "    cur.execute(\"INSERT INTO ventas VALUES (?,?,?,?,?,?)\",\n",
    "                i, random_fk(cur,\"clientes\",\"ID_cliente\"),\n",
    "                random_fk(cur,\"productos\",\"ID_producto\"),\n",
    "                random.randint(1,500), precio, rand_dt())\n",
    "\n",
    "def insert_exportacion(cur):\n",
    "    i = get_next_id(cur,\"exportaciones\",\"ID_exportacion\")\n",
    "    cur.execute(\"INSERT INTO exportaciones VALUES (?,?,?,?,?,?,?)\",\n",
    "                i, random_fk(cur,\"clientes\",\"ID_cliente\"),\n",
    "                random_fk(cur,\"productos\",\"ID_producto\"),\n",
    "                int(random.normalvariate(500,200)),\n",
    "                random.choice(PAISES), random.choice(ESTADOS), rand_dt())\n",
    "\n",
    "def insert_costo(cur):\n",
    "    i = get_next_id(cur,\"costos\",\"ID_costo\")\n",
    "    energia = -9999 if random.random()<0.02 else int(random.normalvariate(2_000_000,500_000))\n",
    "    cur.execute(\"INSERT INTO costos VALUES (?,?,?,?,?,?)\",\n",
    "                i, random.choice(PLANTAS), energia,\n",
    "                int(random.normalvariate(3_000_000,800_000)),\n",
    "                int(random.normalvariate(1_000_000,300_000)),\n",
    "                random.randint(1,12))\n",
    "\n",
    "def insert_inventario(cur):\n",
    "    i = get_next_id(cur,\"inventario\",\"ID_inventario\")\n",
    "    cur.execute(\"INSERT INTO inventario(ID_inventario,ID_producto,Stock_kg,Ubicacion) VALUES (?,?,?,?)\",\n",
    "                i, random_fk(cur,\"productos\",\"ID_producto\"),\n",
    "                random.randint(0,10000), random.choice(UBICS))\n"
   ]
  },
  {
   "cell_type": "code",
   "execution_count": 5,
   "id": "350e45b5-6d8e-4457-887b-1a8a8df37602",
   "metadata": {},
   "outputs": [
    {
     "name": "stdout",
     "output_type": "stream",
     "text": [
      "Dimensiones sembradas ✔️\n"
     ]
    }
   ],
   "source": [
    "#Sembrar dimensiones (una vez)\n",
    "with get_conn() as conn:\n",
    "    cur = conn.cursor()\n",
    "    for _ in range(50):\n",
    "        insert_cliente(cur); insert_producto(cur); insert_empleado(cur)\n",
    "print(\"Dimensiones sembradas ✔️\")\n"
   ]
  },
  {
   "cell_type": "code",
   "execution_count": 6,
   "id": "69022e53",
   "metadata": {},
   "outputs": [
    {
     "name": "stdout",
     "output_type": "stream",
     "text": [
      "Ciclo 1 ok\n",
      "Ciclo 2 ok\n",
      "Ciclo 3 ok\n",
      "Ciclo 4 ok\n",
      "Ciclo 5 ok\n",
      "Ciclo 6 ok\n",
      "Interrumpido por el usuario\n"
     ]
    }
   ],
   "source": [
    "#Stream de inserciones\n",
    "import time, random\n",
    "BATCH_MIN, BATCH_MAX = 50, 150\n",
    "SLEEP_SECONDS = 2\n",
    "NUM_CICLOS = None   # pon None para infinito (detén con Ctrl+C)\n",
    "\n",
    "ops = [insert_produccion, insert_venta, insert_exportacion, insert_costo, insert_inventario]\n",
    "\n",
    "with get_conn() as conn:\n",
    "    cur = conn.cursor()\n",
    "    try:\n",
    "        if NUM_CICLOS is None:\n",
    "            ciclo = 0\n",
    "            while True:\n",
    "                ciclo += 1\n",
    "                for _ in range(random.randint(BATCH_MIN,BATCH_MAX)):\n",
    "                    random.choice(ops)(cur)\n",
    "                if random.random()<0.10: insert_cliente(cur)\n",
    "                if random.random()<0.08:  insert_producto(cur)\n",
    "                if random.random()<0.06:  insert_empleado(cur)\n",
    "                print(\"Ciclo\", ciclo, \"ok\")\n",
    "                time.sleep(SLEEP_SECONDS)\n",
    "        else:\n",
    "            for c in range(1, NUM_CICLOS+1):\n",
    "                for _ in range(random.randint(BATCH_MIN,BATCH_MAX)):\n",
    "                    random.choice(ops)(cur)\n",
    "                if random.random()<0.10: insert_cliente(cur)\n",
    "                if random.random()<0.08:  insert_producto(cur)\n",
    "                if random.random()<0.06:  insert_empleado(cur)\n",
    "                print(\"Ciclo\", c, \"ok\")\n",
    "                time.sleep(SLEEP_SECONDS)\n",
    "    except KeyboardInterrupt:\n",
    "        print(\"Interrumpido por el usuario\")\n"
   ]
  },
  {
   "cell_type": "code",
   "execution_count": 9,
   "id": "852e0d25",
   "metadata": {},
   "outputs": [
    {
     "name": "stdout",
     "output_type": "stream",
     "text": [
      "clientes 2051\n",
      "productos 550\n",
      "empleados 3050\n",
      "produccion 80105\n",
      "ventas 80109\n",
      "exportaciones 80116\n",
      "costos 80114\n",
      "inventario 10117\n"
     ]
    }
   ],
   "source": [
    "#Verificar conteos\n",
    "with get_conn() as conn:\n",
    "    cur = conn.cursor()\n",
    "    for t in [\"clientes\",\"productos\",\"empleados\",\"produccion\",\"ventas\",\"exportaciones\",\"costos\",\"inventario\"]:\n",
    "        cur.execute(f\"SELECT COUNT(1) FROM {t};\")\n",
    "        print(t, cur.fetchone()[0])\n"
   ]
  },
  {
   "cell_type": "code",
   "execution_count": null,
   "id": "47039587-ff9f-4795-aeee-ee783d2f24bf",
   "metadata": {},
   "outputs": [],
   "source": []
  }
 ],
 "metadata": {
  "kernelspec": {
   "display_name": "Python [conda env:base] *",
   "language": "python",
   "name": "conda-base-py"
  },
  "language_info": {
   "codemirror_mode": {
    "name": "ipython",
    "version": 3
   },
   "file_extension": ".py",
   "mimetype": "text/x-python",
   "name": "python",
   "nbconvert_exporter": "python",
   "pygments_lexer": "ipython3",
   "version": "3.13.5"
  }
 },
 "nbformat": 4,
 "nbformat_minor": 5
}
